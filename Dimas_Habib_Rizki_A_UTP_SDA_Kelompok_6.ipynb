{
  "nbformat": 4,
  "nbformat_minor": 0,
  "metadata": {
    "colab": {
      "provenance": []
    },
    "kernelspec": {
      "name": "python3",
      "display_name": "Python 3"
    },
    "language_info": {
      "name": "python"
    }
  },
  "cells": [
    {
      "cell_type": "code",
      "execution_count": null,
      "metadata": {
        "id": "OIW-4nk4JFs6"
      },
      "outputs": [],
      "source": [
        "#Bagian 2 : Dimas Habib Rizki (2217051059)\n",
        "while True:\n",
        "    print()\n",
        "    print(\"=\" * 10, \"Selamat Datang\", \"=\" * 10)\n",
        "    print(\"| 1. CPU           (Rp 2.000.000) |\")\n",
        "    print(\"| 2. Motherboard   (Rp 1.800.000) |\")\n",
        "    print(\"| 3. RAM           (Rp 800.000)   |\")\n",
        "    print(\"| 4. GPU           (Rp 2.500.000) |\")\n",
        "    print(\"| X. Keluar                       |\")\n",
        "    print(\"=\" * 36)\n",
        "    uang = int(input(\"masukkan uang anda : \"))\n",
        "    pilihan = input(\"Masukkan pilihan anda : \").upper()\n",
        "    if pilihan == \"1\":\n",
        "        print(\"=\" * 10, \"Menu Pembelian CPU\", \"=\" * 10)\n",
        "        print(\"Harga CPU = Rp. 2.000.000\")\n",
        "        tambah = int(input(\"Masukkan jumlah barang yang diinginkan : \"))\n",
        "        beli.tambah_barang(tambah)\n",
        "        produk = \"CPU\"\n",
        "        harga = 2000000\n",
        "    elif pilihan == \"2\":\n",
        "        print(\"=\" * 10, \"Menu Pembelian MotherBoard\", \"=\" * 10)\n",
        "        print(\"Harga MotherBoard = Rp. 1.800.000\")\n",
        "        tambah = int(input(\"Masukkan jumlah barang yang diinginkan : \"))\n",
        "        beli.tambah_barang(tambah)\n",
        "        produk = \"Motherboard\"\n",
        "        harga = 1800000"
      ]
    }
  ]
}